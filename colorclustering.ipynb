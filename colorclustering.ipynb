{
 "cells": [
  {
   "cell_type": "code",
   "execution_count": 61,
   "id": "25d98eec",
   "metadata": {},
   "outputs": [],
   "source": [
    "#Importing the necessary Libraries\n",
    "import cv2\n",
    "import numpy as np\n",
    "import pandas as pd\n",
    "import matplotlib.pyplot as plt\n",
    "import textwrap"
   ]
  },
  {
   "cell_type": "code",
   "execution_count": 62,
   "id": "2043ac4d",
   "metadata": {},
   "outputs": [],
   "source": [
    "#Loading the dataset\n",
    "index=[\"color\",\"color_name\",\"hex\",\"R\",\"G\",\"B\"]\n",
    "csv = pd.read_csv('colors.csv', names=index, header=None)"
   ]
  },
  {
   "cell_type": "code",
   "execution_count": 63,
   "id": "466f8606",
   "metadata": {},
   "outputs": [
    {
     "data": {
      "text/html": [
       "<div>\n",
       "<style scoped>\n",
       "    .dataframe tbody tr th:only-of-type {\n",
       "        vertical-align: middle;\n",
       "    }\n",
       "\n",
       "    .dataframe tbody tr th {\n",
       "        vertical-align: top;\n",
       "    }\n",
       "\n",
       "    .dataframe thead th {\n",
       "        text-align: right;\n",
       "    }\n",
       "</style>\n",
       "<table border=\"1\" class=\"dataframe\">\n",
       "  <thead>\n",
       "    <tr style=\"text-align: right;\">\n",
       "      <th></th>\n",
       "      <th>color</th>\n",
       "      <th>color_name</th>\n",
       "      <th>hex</th>\n",
       "      <th>R</th>\n",
       "      <th>G</th>\n",
       "      <th>B</th>\n",
       "    </tr>\n",
       "  </thead>\n",
       "  <tbody>\n",
       "    <tr>\n",
       "      <th>0</th>\n",
       "      <td>air_force_blue_raf</td>\n",
       "      <td>Air Force Blue (Raf)</td>\n",
       "      <td>#5d8aa8</td>\n",
       "      <td>93</td>\n",
       "      <td>138</td>\n",
       "      <td>168</td>\n",
       "    </tr>\n",
       "    <tr>\n",
       "      <th>1</th>\n",
       "      <td>air_force_blue_usaf</td>\n",
       "      <td>Air Force Blue (Usaf)</td>\n",
       "      <td>#00308f</td>\n",
       "      <td>0</td>\n",
       "      <td>48</td>\n",
       "      <td>143</td>\n",
       "    </tr>\n",
       "    <tr>\n",
       "      <th>2</th>\n",
       "      <td>air_superiority_blue</td>\n",
       "      <td>Air Superiority Blue</td>\n",
       "      <td>#72a0c1</td>\n",
       "      <td>114</td>\n",
       "      <td>160</td>\n",
       "      <td>193</td>\n",
       "    </tr>\n",
       "    <tr>\n",
       "      <th>3</th>\n",
       "      <td>alabama_crimson</td>\n",
       "      <td>Alabama Crimson</td>\n",
       "      <td>#a32638</td>\n",
       "      <td>163</td>\n",
       "      <td>38</td>\n",
       "      <td>56</td>\n",
       "    </tr>\n",
       "    <tr>\n",
       "      <th>4</th>\n",
       "      <td>alice_blue</td>\n",
       "      <td>Alice Blue</td>\n",
       "      <td>#f0f8ff</td>\n",
       "      <td>240</td>\n",
       "      <td>248</td>\n",
       "      <td>255</td>\n",
       "    </tr>\n",
       "    <tr>\n",
       "      <th>...</th>\n",
       "      <td>...</td>\n",
       "      <td>...</td>\n",
       "      <td>...</td>\n",
       "      <td>...</td>\n",
       "      <td>...</td>\n",
       "      <td>...</td>\n",
       "    </tr>\n",
       "    <tr>\n",
       "      <th>860</th>\n",
       "      <td>yellow_orange</td>\n",
       "      <td>Yellow Orange</td>\n",
       "      <td>#ffae42</td>\n",
       "      <td>255</td>\n",
       "      <td>174</td>\n",
       "      <td>66</td>\n",
       "    </tr>\n",
       "    <tr>\n",
       "      <th>861</th>\n",
       "      <td>yellow_process</td>\n",
       "      <td>Yellow (Process)</td>\n",
       "      <td>#ffef00</td>\n",
       "      <td>255</td>\n",
       "      <td>239</td>\n",
       "      <td>0</td>\n",
       "    </tr>\n",
       "    <tr>\n",
       "      <th>862</th>\n",
       "      <td>yellow_ryb</td>\n",
       "      <td>Yellow (Ryb)</td>\n",
       "      <td>#fefe33</td>\n",
       "      <td>254</td>\n",
       "      <td>254</td>\n",
       "      <td>51</td>\n",
       "    </tr>\n",
       "    <tr>\n",
       "      <th>863</th>\n",
       "      <td>zaffre</td>\n",
       "      <td>Zaffre</td>\n",
       "      <td>#0014a8</td>\n",
       "      <td>0</td>\n",
       "      <td>20</td>\n",
       "      <td>168</td>\n",
       "    </tr>\n",
       "    <tr>\n",
       "      <th>864</th>\n",
       "      <td>zinnwaldite_brown</td>\n",
       "      <td>Zinnwaldite Brown</td>\n",
       "      <td>#2c1608</td>\n",
       "      <td>44</td>\n",
       "      <td>22</td>\n",
       "      <td>8</td>\n",
       "    </tr>\n",
       "  </tbody>\n",
       "</table>\n",
       "<p>865 rows × 6 columns</p>\n",
       "</div>"
      ],
      "text/plain": [
       "                    color             color_name      hex    R    G    B\n",
       "0      air_force_blue_raf   Air Force Blue (Raf)  #5d8aa8   93  138  168\n",
       "1     air_force_blue_usaf  Air Force Blue (Usaf)  #00308f    0   48  143\n",
       "2    air_superiority_blue   Air Superiority Blue  #72a0c1  114  160  193\n",
       "3         alabama_crimson        Alabama Crimson  #a32638  163   38   56\n",
       "4              alice_blue             Alice Blue  #f0f8ff  240  248  255\n",
       "..                    ...                    ...      ...  ...  ...  ...\n",
       "860         yellow_orange          Yellow Orange  #ffae42  255  174   66\n",
       "861        yellow_process       Yellow (Process)  #ffef00  255  239    0\n",
       "862            yellow_ryb           Yellow (Ryb)  #fefe33  254  254   51\n",
       "863                zaffre                 Zaffre  #0014a8    0   20  168\n",
       "864     zinnwaldite_brown      Zinnwaldite Brown  #2c1608   44   22    8\n",
       "\n",
       "[865 rows x 6 columns]"
      ]
     },
     "execution_count": 63,
     "metadata": {},
     "output_type": "execute_result"
    }
   ],
   "source": [
    "csv"
   ]
  },
  {
   "cell_type": "code",
   "execution_count": 64,
   "id": "f4cefaae",
   "metadata": {},
   "outputs": [
    {
     "data": {
      "text/html": [
       "<div>\n",
       "<style scoped>\n",
       "    .dataframe tbody tr th:only-of-type {\n",
       "        vertical-align: middle;\n",
       "    }\n",
       "\n",
       "    .dataframe tbody tr th {\n",
       "        vertical-align: top;\n",
       "    }\n",
       "\n",
       "    .dataframe thead th {\n",
       "        text-align: right;\n",
       "    }\n",
       "</style>\n",
       "<table border=\"1\" class=\"dataframe\">\n",
       "  <thead>\n",
       "    <tr style=\"text-align: right;\">\n",
       "      <th></th>\n",
       "      <th>color</th>\n",
       "      <th>color_name</th>\n",
       "      <th>hex</th>\n",
       "      <th>R</th>\n",
       "      <th>G</th>\n",
       "      <th>B</th>\n",
       "    </tr>\n",
       "  </thead>\n",
       "  <tbody>\n",
       "    <tr>\n",
       "      <th>96</th>\n",
       "      <td>brown_web</td>\n",
       "      <td>Brown (Web)</td>\n",
       "      <td>#a52a2a</td>\n",
       "      <td>165</td>\n",
       "      <td>42</td>\n",
       "      <td>42</td>\n",
       "    </tr>\n",
       "    <tr>\n",
       "      <th>146</th>\n",
       "      <td>cerulean</td>\n",
       "      <td>Cerulean</td>\n",
       "      <td>#007ba7</td>\n",
       "      <td>0</td>\n",
       "      <td>123</td>\n",
       "      <td>167</td>\n",
       "    </tr>\n",
       "    <tr>\n",
       "      <th>157</th>\n",
       "      <td>cherry</td>\n",
       "      <td>Cherry</td>\n",
       "      <td>#de3163</td>\n",
       "      <td>222</td>\n",
       "      <td>49</td>\n",
       "      <td>99</td>\n",
       "    </tr>\n",
       "    <tr>\n",
       "      <th>168</th>\n",
       "      <td>cinnamon</td>\n",
       "      <td>Cinnamon</td>\n",
       "      <td>#d2691e</td>\n",
       "      <td>210</td>\n",
       "      <td>105</td>\n",
       "      <td>30</td>\n",
       "    </tr>\n",
       "    <tr>\n",
       "      <th>172</th>\n",
       "      <td>cocoa_brown</td>\n",
       "      <td>Cocoa Brown</td>\n",
       "      <td>#d2691e</td>\n",
       "      <td>210</td>\n",
       "      <td>105</td>\n",
       "      <td>30</td>\n",
       "    </tr>\n",
       "  </tbody>\n",
       "</table>\n",
       "</div>"
      ],
      "text/plain": [
       "           color   color_name      hex    R    G    B\n",
       "96     brown_web  Brown (Web)  #a52a2a  165   42   42\n",
       "146     cerulean     Cerulean  #007ba7    0  123  167\n",
       "157       cherry       Cherry  #de3163  222   49   99\n",
       "168     cinnamon     Cinnamon  #d2691e  210  105   30\n",
       "172  cocoa_brown  Cocoa Brown  #d2691e  210  105   30"
      ]
     },
     "execution_count": 64,
     "metadata": {},
     "output_type": "execute_result"
    }
   ],
   "source": [
    "#Checking whether the duplicates are present or not\n",
    "duplicate = csv[csv.duplicated(['R', 'G', 'B'], keep='first')]\n",
    "duplicate.head()"
   ]
  },
  {
   "cell_type": "code",
   "execution_count": 65,
   "id": "b74254c8",
   "metadata": {},
   "outputs": [
    {
     "data": {
      "text/plain": [
       "(100, 6)"
      ]
     },
     "execution_count": 65,
     "metadata": {},
     "output_type": "execute_result"
    }
   ],
   "source": [
    "#100  instances/records are duplicated\n",
    "duplicate.shape"
   ]
  },
  {
   "cell_type": "code",
   "execution_count": 66,
   "id": "053127f3",
   "metadata": {},
   "outputs": [],
   "source": [
    "#Dropping the duplicate records\n",
    "csv = csv.drop_duplicates(\n",
    "  subset = ['R', 'G','B'],\n",
    "  keep = 'first').reset_index(drop = True)"
   ]
  },
  {
   "cell_type": "code",
   "execution_count": 67,
   "id": "8d220c4e",
   "metadata": {},
   "outputs": [
    {
     "data": {
      "text/html": [
       "<div>\n",
       "<style scoped>\n",
       "    .dataframe tbody tr th:only-of-type {\n",
       "        vertical-align: middle;\n",
       "    }\n",
       "\n",
       "    .dataframe tbody tr th {\n",
       "        vertical-align: top;\n",
       "    }\n",
       "\n",
       "    .dataframe thead th {\n",
       "        text-align: right;\n",
       "    }\n",
       "</style>\n",
       "<table border=\"1\" class=\"dataframe\">\n",
       "  <thead>\n",
       "    <tr style=\"text-align: right;\">\n",
       "      <th></th>\n",
       "      <th>color</th>\n",
       "      <th>color_name</th>\n",
       "      <th>hex</th>\n",
       "      <th>R</th>\n",
       "      <th>G</th>\n",
       "      <th>B</th>\n",
       "    </tr>\n",
       "  </thead>\n",
       "  <tbody>\n",
       "    <tr>\n",
       "      <th>0</th>\n",
       "      <td>air_force_blue_raf</td>\n",
       "      <td>Air Force Blue (Raf)</td>\n",
       "      <td>#5d8aa8</td>\n",
       "      <td>93</td>\n",
       "      <td>138</td>\n",
       "      <td>168</td>\n",
       "    </tr>\n",
       "    <tr>\n",
       "      <th>1</th>\n",
       "      <td>air_force_blue_usaf</td>\n",
       "      <td>Air Force Blue (Usaf)</td>\n",
       "      <td>#00308f</td>\n",
       "      <td>0</td>\n",
       "      <td>48</td>\n",
       "      <td>143</td>\n",
       "    </tr>\n",
       "    <tr>\n",
       "      <th>2</th>\n",
       "      <td>air_superiority_blue</td>\n",
       "      <td>Air Superiority Blue</td>\n",
       "      <td>#72a0c1</td>\n",
       "      <td>114</td>\n",
       "      <td>160</td>\n",
       "      <td>193</td>\n",
       "    </tr>\n",
       "    <tr>\n",
       "      <th>3</th>\n",
       "      <td>alabama_crimson</td>\n",
       "      <td>Alabama Crimson</td>\n",
       "      <td>#a32638</td>\n",
       "      <td>163</td>\n",
       "      <td>38</td>\n",
       "      <td>56</td>\n",
       "    </tr>\n",
       "    <tr>\n",
       "      <th>4</th>\n",
       "      <td>alice_blue</td>\n",
       "      <td>Alice Blue</td>\n",
       "      <td>#f0f8ff</td>\n",
       "      <td>240</td>\n",
       "      <td>248</td>\n",
       "      <td>255</td>\n",
       "    </tr>\n",
       "    <tr>\n",
       "      <th>...</th>\n",
       "      <td>...</td>\n",
       "      <td>...</td>\n",
       "      <td>...</td>\n",
       "      <td>...</td>\n",
       "      <td>...</td>\n",
       "      <td>...</td>\n",
       "    </tr>\n",
       "    <tr>\n",
       "      <th>760</th>\n",
       "      <td>yellow_ncs</td>\n",
       "      <td>Yellow (Ncs)</td>\n",
       "      <td>#ffd300</td>\n",
       "      <td>255</td>\n",
       "      <td>211</td>\n",
       "      <td>0</td>\n",
       "    </tr>\n",
       "    <tr>\n",
       "      <th>761</th>\n",
       "      <td>yellow_orange</td>\n",
       "      <td>Yellow Orange</td>\n",
       "      <td>#ffae42</td>\n",
       "      <td>255</td>\n",
       "      <td>174</td>\n",
       "      <td>66</td>\n",
       "    </tr>\n",
       "    <tr>\n",
       "      <th>762</th>\n",
       "      <td>yellow_ryb</td>\n",
       "      <td>Yellow (Ryb)</td>\n",
       "      <td>#fefe33</td>\n",
       "      <td>254</td>\n",
       "      <td>254</td>\n",
       "      <td>51</td>\n",
       "    </tr>\n",
       "    <tr>\n",
       "      <th>763</th>\n",
       "      <td>zaffre</td>\n",
       "      <td>Zaffre</td>\n",
       "      <td>#0014a8</td>\n",
       "      <td>0</td>\n",
       "      <td>20</td>\n",
       "      <td>168</td>\n",
       "    </tr>\n",
       "    <tr>\n",
       "      <th>764</th>\n",
       "      <td>zinnwaldite_brown</td>\n",
       "      <td>Zinnwaldite Brown</td>\n",
       "      <td>#2c1608</td>\n",
       "      <td>44</td>\n",
       "      <td>22</td>\n",
       "      <td>8</td>\n",
       "    </tr>\n",
       "  </tbody>\n",
       "</table>\n",
       "<p>765 rows × 6 columns</p>\n",
       "</div>"
      ],
      "text/plain": [
       "                    color             color_name      hex    R    G    B\n",
       "0      air_force_blue_raf   Air Force Blue (Raf)  #5d8aa8   93  138  168\n",
       "1     air_force_blue_usaf  Air Force Blue (Usaf)  #00308f    0   48  143\n",
       "2    air_superiority_blue   Air Superiority Blue  #72a0c1  114  160  193\n",
       "3         alabama_crimson        Alabama Crimson  #a32638  163   38   56\n",
       "4              alice_blue             Alice Blue  #f0f8ff  240  248  255\n",
       "..                    ...                    ...      ...  ...  ...  ...\n",
       "760            yellow_ncs           Yellow (Ncs)  #ffd300  255  211    0\n",
       "761         yellow_orange          Yellow Orange  #ffae42  255  174   66\n",
       "762            yellow_ryb           Yellow (Ryb)  #fefe33  254  254   51\n",
       "763                zaffre                 Zaffre  #0014a8    0   20  168\n",
       "764     zinnwaldite_brown      Zinnwaldite Brown  #2c1608   44   22    8\n",
       "\n",
       "[765 rows x 6 columns]"
      ]
     },
     "execution_count": 67,
     "metadata": {},
     "output_type": "execute_result"
    }
   ],
   "source": [
    "csv"
   ]
  },
  {
   "cell_type": "code",
   "execution_count": 68,
   "id": "013339cd",
   "metadata": {},
   "outputs": [
    {
     "data": {
      "text/plain": [
       "color         0\n",
       "color_name    0\n",
       "hex           0\n",
       "R             0\n",
       "G             0\n",
       "B             0\n",
       "dtype: int64"
      ]
     },
     "execution_count": 68,
     "metadata": {},
     "output_type": "execute_result"
    }
   ],
   "source": [
    "#checking whether any of the attributes have null values or not\n",
    "csv.isnull().sum()"
   ]
  },
  {
   "cell_type": "code",
   "execution_count": 69,
   "id": "69be707b",
   "metadata": {},
   "outputs": [],
   "source": [
    "#converting the dataframe into array type and also we are extracting the RGB values\n",
    "colors=np.array(csv)\n",
    "rgb=np.array(csv)[:,-3:]"
   ]
  },
  {
   "cell_type": "code",
   "execution_count": 70,
   "id": "3d72fe9f",
   "metadata": {},
   "outputs": [
    {
     "name": "stdout",
     "output_type": "stream",
     "text": [
      "[['air_force_blue_raf' 'Air Force Blue (Raf)' '#5d8aa8' 93 138 168]\n",
      " ['air_force_blue_usaf' 'Air Force Blue (Usaf)' '#00308f' 0 48 143]\n",
      " ['air_superiority_blue' 'Air Superiority Blue' '#72a0c1' 114 160 193]\n",
      " ...\n",
      " ['yellow_ryb' 'Yellow (Ryb)' '#fefe33' 254 254 51]\n",
      " ['zaffre' 'Zaffre' '#0014a8' 0 20 168]\n",
      " ['zinnwaldite_brown' 'Zinnwaldite Brown' '#2c1608' 44 22 8]]\n"
     ]
    }
   ],
   "source": [
    "print(colors)"
   ]
  },
  {
   "cell_type": "code",
   "execution_count": 71,
   "id": "efd63ca7",
   "metadata": {},
   "outputs": [
    {
     "name": "stdout",
     "output_type": "stream",
     "text": [
      "[[93 138 168]\n",
      " [0 48 143]\n",
      " [114 160 193]\n",
      " ...\n",
      " [254 254 51]\n",
      " [0 20 168]\n",
      " [44 22 8]]\n"
     ]
    }
   ],
   "source": [
    "print(rgb)"
   ]
  },
  {
   "cell_type": "code",
   "execution_count": 72,
   "id": "76293da4",
   "metadata": {},
   "outputs": [],
   "source": [
    "#Building the model using KMeans CLustering\n",
    "from sklearn.cluster import KMeans\n",
    "model = KMeans(n_clusters=130, init=\"k-means++\", random_state=5)\n",
    "model.fit(rgb)\n",
    "\n",
    "#Get the cluster label for each color\n",
    "color_label = model.labels_"
   ]
  },
  {
   "cell_type": "code",
   "execution_count": 73,
   "id": "db6ba161",
   "metadata": {},
   "outputs": [
    {
     "name": "stdout",
     "output_type": "stream",
     "text": [
      "[ 52   4  33  24  86  43  38 100  43   7  70  62  55  14  86  68 113  83\n",
      "  45  72  80  20  28 106  53 126  95  90  59 107  96  40  61  73  34  86\n",
      "  18  18   2  11  20  56  83  61  61  50   5  45  24 100  53  36  60 123\n",
      "  22  69  53  45   5  98  88 100 116  15  34  33  11  11  91  66  34 128\n",
      " 119  30  77  11 100   8  97 102  34  94 121  11  21  23 121  25  28  23\n",
      " 122  30  30  69  38   0   2  10 115  22  83  82 110  36   0  12 102 112\n",
      "  52  15  97  51   8  40   5  53  69  76  68   2  61  40  84  30 120  27\n",
      "  96 118  47 111  43  62  71  96  18  87 124  15  37  91 117  88  98 121\n",
      "  93  58  33  91  43   5  20 126 108  92  21   2  60 105 113  96   0  38\n",
      "  89  61  43   7  39   4  77  88 107  49  15  38  19   5  60   5  84  36\n",
      "  43  77  29  98  45  45   2  45 111 111 120  75  56 104  77  57  47 128\n",
      "   5  60  44 112  38  15  69  49  69  82  53  35 114  49 125  70 119  33\n",
      "  64  55  96  30   4 102  47 107  27  76  22  66 126  97 101  89  60  41\n",
      "  16  99  97  13  74  24  43   3  93  60  77  55  49  55  46  20  25 102\n",
      "  51  57  58  20 112  34  74  59  99 104  19  13  82  57 100   4  88  62\n",
      "  67  26  92  46  54  26  40  31  68  76  83  12  25  19  13 125  84  77\n",
      "  96  96   3 108 115 115  86  62  69   9  91  35 121  30  81  78  12  70\n",
      "  60  50  87  86  99  52  10  94   7  99   7  40  87  37  61 126  90 118\n",
      " 118 118  64  42  79  68  65  57 109  54  67   8  87  99  78  86  91 112\n",
      "  81  17 126  33  29   4 129  72  19  66   4  63  47  96  32  86  72  86\n",
      " 118 115  43  24  53  29 129  31  42  83  82 115   8   9  50 128  75  76\n",
      "   8 103  86  23  90   1  78  10  71  55 122  21  40  45  92 123  20  88\n",
      "  38  36 107  18  30  10  78  45  50  37  23   2 107 108  11  18  61  68\n",
      "  45  23  92  42  80  69  45  33  13   8  93  25 106  86 110  32  64  15\n",
      "  51  59 114  83 121 122 113 108  18  94  85  48   8  96  20 128  69  23\n",
      "  55  91  55  12 113  31   1 115  65  13  85  60  93  95   2 124  49   7\n",
      "  31  86  37  39  33  47  37  31  61  69  12  29  69  71  73  20 104  51\n",
      "  36  67  68  88   9  91  38  94  45  61  57  68  53 125  59  53 105  70\n",
      "  89  63  89  89  17  47 126  36  49  72  58  57  88   5  18  82  18  82\n",
      "  20  37 103  78  39 105 106  90 100  68 102  45  90 101  90   6  71  56\n",
      "  82  15  36  23 115 114  20  20  20  20 127 100 106 105  40  58 118 124\n",
      "  19 108  83  96  25  63  51  46 104  69  39  44   2  39  71 108  59 100\n",
      " 113   3  88  70  49 105   3  35  55  16  17  13 119  13  43  19  74  30\n",
      " 113 101  81  74  84  83  62 111  36   8  84 113  66   4  49 122  11  55\n",
      "  55  53  41  30  13  68  17  15 101  27   8  68   4  49 109  93  35  74\n",
      "  74  47  62  38 108  47   0 110  43  97   0  63  56 107 108  56  19  47\n",
      " 125  58  94  84  62   7   6 128 117  22  86  89   0 101  64  81  78   0\n",
      "  90 110  44  18 105  32  61  77 123  86 120  21 124  52 112  95  56  82\n",
      "  63  70   7  61 100  44 117  44  93 110  36  50 108  41  51  50  40  36\n",
      "  32  95  44  91  52  82  68  85  28  76  77 113  27   4 111  55 112  89\n",
      "  31 104 109  13 100  98  38  29  83  96  87 128 111  94   8  85  58  26\n",
      "  16 117  83  24  93 107  26  49  88  13  20  86  86  15  30  30  77  23\n",
      "  61 128  14   7   7  56  75  48  22]\n"
     ]
    }
   ],
   "source": [
    "#printing the labels/cluster it belongs to that classified for each color\n",
    "print(color_label)"
   ]
  },
  {
   "cell_type": "code",
   "execution_count": 74,
   "id": "1832cc68",
   "metadata": {},
   "outputs": [],
   "source": [
    "#Get hex code from R,G,B values\n",
    "def findhex(R,G,B):\n",
    "  for i in range(len(colors)):\n",
    "    if(colors[i,3]==R and colors[i,4]==G and colors[i,5]==B):\n",
    "      return colors[i,2]\n",
    "\n",
    "#Get color name from R,G,B values\n",
    "def findname(R,G,B):\n",
    "  for i in range(len(colors)):\n",
    "    if(colors[i,3]==R and colors[i,4]==G and colors[i,5]==B):\n",
    "      return colors[i,1]"
   ]
  },
  {
   "cell_type": "code",
   "execution_count": 75,
   "id": "9e6169bc",
   "metadata": {},
   "outputs": [],
   "source": [
    "#Plot the colors of a cluster as subplots\n",
    "def show(f):\n",
    "  n=int(len(f)/4)\n",
    "  if(len(f)%4!=0):\n",
    "    n=n+1\n",
    "  k=0\n",
    "  for i in range(n):\n",
    "    for j in range(4):       \n",
    "       ax = plt.subplot2grid((n,4), (i,j), colspan=1, rowspan=1)\n",
    "       plt.subplots_adjust(hspace=0.8)\n",
    "       ax.title.set_text(\"\\n\".join(textwrap.wrap(findname(f[k,0],f[k,1],f[k,2]),12)))\n",
    "       ax.set_facecolor(findhex(f[k,0],f[k,1],f[k,2]))\n",
    "       ax.set_yticklabels([])      \n",
    "       ax.set_xticklabels([])\n",
    "       k=k+1\n",
    "       if(k==len(f)):\n",
    "         return\n",
    "  plt.show()"
   ]
  },
  {
   "cell_type": "code",
   "execution_count": 76,
   "id": "10cc3692",
   "metadata": {},
   "outputs": [],
   "source": [
    "#Show nth Cluster\n",
    "def getCluster(n):\n",
    "    clstr = rgb[color_label==n-1]\n",
    "    show(clstr)"
   ]
  },
  {
   "cell_type": "code",
   "execution_count": 77,
   "id": "0ae4ee8b",
   "metadata": {},
   "outputs": [
    {
     "data": {
      "image/png": "[encoded data removed]",
      "text/plain": [
       "<Figure size 432x288 with 7 Axes>"
      ]
     },
     "metadata": {
      "needs_background": "light"
     },
     "output_type": "display_data"
    }
   ],
   "source": [
    "getCluster(1)"
   ]
  },
  {
   "cell_type": "code",
   "execution_count": 78,
   "id": "1bdc0406",
   "metadata": {},
   "outputs": [
    {
     "data": {
      "image/png": "[encoded data removed]",
      "text/plain": [
       "<Figure size 432x288 with 2 Axes>"
      ]
     },
     "metadata": {
      "needs_background": "light"
     },
     "output_type": "display_data"
    }
   ],
   "source": [
    "getCluster(2)"
   ]
  },
  {
   "cell_type": "code",
   "execution_count": 79,
   "id": "2ebbc9f4",
   "metadata": {},
   "outputs": [
    {
     "data": {
      "image/png": "[encoded data removed]",
      "text/plain": [
       "<Figure size 432x288 with 8 Axes>"
      ]
     },
     "metadata": {
      "needs_background": "light"
     },
     "output_type": "display_data"
    }
   ],
   "source": [
    "getCluster(3)"
   ]
  },
  {
   "cell_type": "code",
   "execution_count": 80,
   "id": "a679053f",
   "metadata": {},
   "outputs": [
    {
     "data": {
      "image/png": "[encoded data removed]",
      "text/plain": [
       "<Figure size 432x288 with 4 Axes>"
      ]
     },
     "metadata": {
      "needs_background": "light"
     },
     "output_type": "display_data"
    }
   ],
   "source": [
    "getCluster(4)"
   ]
  },
  {
   "cell_type": "code",
   "execution_count": 81,
   "id": "963e087a",
   "metadata": {},
   "outputs": [
    {
     "data": {
      "image/png": "[encoded data removed]",
      "text/plain": [
       "<Figure size 432x288 with 9 Axes>"
      ]
     },
     "metadata": {
      "needs_background": "light"
     },
     "output_type": "display_data"
    }
   ],
   "source": [
    "getCluster(5)"
   ]
  },
  {
   "cell_type": "code",
   "execution_count": 82,
   "id": "a4a0b06a",
   "metadata": {},
   "outputs": [
    {
     "data": {
      "image/png": "[encoded data removed]",
      "text/plain": [
       "<Figure size 432x288 with 3 Axes>"
      ]
     },
     "metadata": {
      "needs_background": "light"
     },
     "output_type": "display_data"
    }
   ],
   "source": [
    "getCluster(10)"
   ]
  },
  {
   "cell_type": "code",
   "execution_count": 83,
   "id": "3f5b09e3",
   "metadata": {},
   "outputs": [
    {
     "data": {
      "image/png": "[encoded data removed]",
      "text/plain": [
       "<Figure size 432x288 with 10 Axes>"
      ]
     },
     "metadata": {
      "needs_background": "light"
     },
     "output_type": "display_data"
    }
   ],
   "source": [
    "getCluster(50)"
   ]
  },
  {
   "cell_type": "code",
   "execution_count": 84,
   "id": "4d94b3c9",
   "metadata": {},
   "outputs": [
    {
     "data": {
      "image/png": "[encoded data removed]",
      "text/plain": [
       "<Figure size 432x288 with 5 Axes>"
      ]
     },
     "metadata": {
      "needs_background": "light"
     },
     "output_type": "display_data"
    }
   ],
   "source": [
    "getCluster(100)"
   ]
  },
  {
   "cell_type": "code",
   "execution_count": 85,
   "id": "99122507",
   "metadata": {},
   "outputs": [
    {
     "data": {
      "image/png": "[encoded data removed]",
      "text/plain": [
       "<Figure size 432x288 with 2 Axes>"
      ]
     },
     "metadata": {
      "needs_background": "light"
     },
     "output_type": "display_data"
    }
   ],
   "source": [
    "getCluster(130)"
   ]
  },
  {
   "cell_type": "code",
   "execution_count": 86,
   "id": "02a7c54c",
   "metadata": {},
   "outputs": [],
   "source": [
    "#Reading the image with opencv\n",
    "img = cv2.imread('D:/6th semester/ML TH/test_image.jpg')\n",
    "\n",
    "#declaring global variables\n",
    "clicked = False\n",
    "r = g = b = xpos = ypos = 0"
   ]
  },
  {
   "cell_type": "code",
   "execution_count": 87,
   "id": "de7cafb1",
   "metadata": {},
   "outputs": [],
   "source": [
    "#function to calculate minimum Manhattan distance from all colors and get the most matching color\n",
    "def getColorName(R,G,B):\n",
    "    minimum = 10000\n",
    "    for i in range(len(csv)):\n",
    "        d = abs(R- int(csv.loc[i,\"R\"])) + abs(G- int(csv.loc[i,\"G\"]))+ abs(B- int(csv.loc[i,\"B\"]))\n",
    "        if(d<=minimum):\n",
    "            minimum = d\n",
    "            cname = csv.loc[i,\"color_name\"]\n",
    "    return cname"
   ]
  },
  {
   "cell_type": "code",
   "execution_count": 88,
   "id": "4f463394",
   "metadata": {},
   "outputs": [],
   "source": [
    "#function to get x,y coordinates of mouse double click\n",
    "def draw_function(event, x,y,flags,param):\n",
    "    if event == cv2.EVENT_LBUTTONDBLCLK:\n",
    "        global b,g,r,xpos,ypos, clicked\n",
    "        clicked = True\n",
    "        xpos = x\n",
    "        ypos = y\n",
    "        b,g,r = img[y,x]\n",
    "        b = int(b)\n",
    "        g = int(g)\n",
    "        r = int(r)"
   ]
  },
  {
   "cell_type": "code",
   "execution_count": 89,
   "id": "c07c262b",
   "metadata": {},
   "outputs": [],
   "source": [
    "#text the color above the image\n",
    "cv2.namedWindow('image')\n",
    "font = cv2.FONT_HERSHEY_SIMPLEX\n",
    "cv2.setMouseCallback('image',draw_function)\n",
    "\n",
    "while(1):\n",
    "\n",
    "    cv2.imshow(\"image\",img)\n",
    "    if (clicked):\n",
    "   \n",
    "        #cv2.rectangle(image, startpoint, endpoint, color, thickness)-1 fills entire rectangle \n",
    "        cv2.rectangle(img,(20,20), (975,60), (b,g,r), -1)\n",
    "\n",
    "        #Creating text string to display( Color name and RGB values )\n",
    "        text = 'Color : ' + getColorName(r,g,b) + ' R='+ str(r) +  ' G='+ str(g) +  ' B='+ str(b)\n",
    "        \n",
    "        #cv2.putText(img,text,start,font(0-7),fontScale,color,thickness,lineType )\n",
    "        cv2.putText(img, text,(50,50),2,0.9,(255,255,255),2,cv2.LINE_AA)\n",
    "\n",
    "        #For very light colours we will display text in black colour\n",
    "        if(r+g+b>=600):\n",
    "            cv2.putText(img, text,(50,50),2,0.9,(0,0,0),2,cv2.LINE_AA)\n",
    "            \n",
    "        clicked=False\n",
    "\n",
    "    #Exit the program when ESC key is pressed    \n",
    "    if cv2.waitKey(20) & 0xFF ==27:\n",
    "        break\n",
    "    \n",
    "cv2.destroyAllWindows()"
   ]
  }
 ],
 "metadata": {
  "kernelspec": {
   "display_name": "Python 3 (ipykernel)",
   "language": "python",
   "name": "python3"
  },
  "language_info": {
   "codemirror_mode": {
    "name": "ipython",
    "version": 3
   },
   "file_extension": ".py",
   "mimetype": "text/x-python",
   "name": "python",
   "nbconvert_exporter": "python",
   "pygments_lexer": "ipython3",
   "version": "3.9.7"
  }
 },
 "nbformat": 4,
 "nbformat_minor": 5
}
